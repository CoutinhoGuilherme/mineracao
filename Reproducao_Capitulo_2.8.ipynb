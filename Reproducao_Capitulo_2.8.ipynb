{
 "cells": [
  {
   "cell_type": "markdown",
   "id": "9adfe06a",
   "metadata": {},
   "source": [
    "\n",
    "# 📊 Reproduzindo o Experimento do Capítulo 2.8 - Mineração de Dados\n",
    "\n",
    "**Base:** Mammographic Mass Dataset  \n",
    "**Fonte:** [UCI Machine Learning Repository](https://archive.ics.uci.edu/dataset/161/mammographic+mass)\n",
    "\n",
    "Neste notebook, vamos reproduzir **todos os passos** do Capítulo 2.8 do livro \"Introdução à Mineração de Dados\", incluindo:  \n",
    "✅ Carregamento dos dados  \n",
    "✅ Análise de valores ausentes  \n",
    "✅ Tratamento de inconsistências  \n",
    "✅ Discretização  \n",
    "✅ Transformação  \n",
    "✅ Redução  \n",
    "✅ Dataset final pronto para mineração\n"
   ]
  },
  {
   "cell_type": "code",
   "execution_count": null,
   "id": "d7f481c5",
   "metadata": {},
   "outputs": [],
   "source": [
    "\n",
    "# Instalar bibliotecas se necessário\n",
    "# !pip install pandas numpy matplotlib seaborn scikit-learn\n",
    "\n",
    "import pandas as pd\n",
    "import numpy as np\n",
    "import matplotlib.pyplot as plt\n",
    "import seaborn as sns\n",
    "from sklearn.impute import SimpleImputer\n",
    "from sklearn.preprocessing import KBinsDiscretizer, MinMaxScaler\n"
   ]
  },
  {
   "cell_type": "code",
   "execution_count": null,
   "id": "122c2f5a",
   "metadata": {},
   "outputs": [],
   "source": [
    "\n",
    "# 📥 Carregar o dataset\n",
    "\n",
    "url = \"https://archive.ics.uci.edu/ml/machine-learning-databases/mammographic-masses/mammographic_masses.data\"\n",
    "columns = [\"BI-RADS\", \"Age\", \"Shape\", \"Margin\", \"Density\", \"Severity\"]\n",
    "\n",
    "df = pd.read_csv(url, names=columns, na_values='?')\n",
    "\n",
    "# Visualizar primeiras linhas\n",
    "df.head()\n"
   ]
  },
  {
   "cell_type": "code",
   "execution_count": null,
   "id": "7e1560c8",
   "metadata": {},
   "outputs": [],
   "source": [
    "\n",
    "# 🔍 Analisar valores ausentes\n",
    "\n",
    "df.info()\n",
    "df.isnull().sum()\n"
   ]
  },
  {
   "cell_type": "code",
   "execution_count": null,
   "id": "337e965e",
   "metadata": {},
   "outputs": [],
   "source": [
    "\n",
    "# 🛠️ Imputar valores ausentes\n",
    "\n",
    "imputer = SimpleImputer(strategy='most_frequent')\n",
    "df_imputed = pd.DataFrame(imputer.fit_transform(df), columns=columns)\n",
    "\n",
    "# Converter colunas numéricas de volta\n",
    "for col in [\"BI-RADS\", \"Age\", \"Shape\", \"Margin\", \"Density\", \"Severity\"]:\n",
    "    df_imputed[col] = pd.to_numeric(df_imputed[col])\n",
    "\n",
    "df_imputed.isnull().sum()\n"
   ]
  },
  {
   "cell_type": "code",
   "execution_count": null,
   "id": "022b6438",
   "metadata": {},
   "outputs": [],
   "source": [
    "\n",
    "# 📊 Estatísticas descritivas\n",
    "\n",
    "df_imputed.describe()\n"
   ]
  },
  {
   "cell_type": "code",
   "execution_count": null,
   "id": "75a23250",
   "metadata": {},
   "outputs": [],
   "source": [
    "\n",
    "# 🧩 Discretizar a idade em 3 faixas\n",
    "\n",
    "kbd = KBinsDiscretizer(n_bins=3, encode='ordinal', strategy='uniform')\n",
    "df_imputed['Age_binned'] = kbd.fit_transform(df_imputed[['Age']])\n",
    "\n",
    "df_imputed[['Age', 'Age_binned']].head()\n"
   ]
  },
  {
   "cell_type": "code",
   "execution_count": null,
   "id": "d9025b58",
   "metadata": {},
   "outputs": [],
   "source": [
    "\n",
    "# 🔧 Normalizar os atributos numéricos\n",
    "\n",
    "scaler = MinMaxScaler()\n",
    "df_normalized = df_imputed.copy()\n",
    "df_normalized[[\"Age\", \"BI-RADS\"]] = scaler.fit_transform(df_normalized[[\"Age\", \"BI-RADS\"]])\n",
    "\n",
    "df_normalized.head()\n"
   ]
  },
  {
   "cell_type": "code",
   "execution_count": null,
   "id": "a267bf83",
   "metadata": {},
   "outputs": [],
   "source": [
    "\n",
    "# ✂️ Redução: Remover atributo não preditivo\n",
    "\n",
    "df_reduced = df_normalized.drop(columns=['BI-RADS'])\n",
    "\n",
    "df_reduced.head()\n"
   ]
  },
  {
   "cell_type": "code",
   "execution_count": null,
   "id": "f05e4649",
   "metadata": {},
   "outputs": [],
   "source": [
    "\n",
    "# ✅ Dataset final pronto para mineração\n",
    "\n",
    "df_reduced.to_csv(\"mammographic_mass_preprocessed.csv\", index=False)\n",
    "print(\"Arquivo salvo como mammographic_mass_preprocessed.csv\")\n",
    "\n",
    "df_reduced.head()\n"
   ]
  },
  {
   "cell_type": "markdown",
   "id": "fb47d7fd",
   "metadata": {},
   "source": [
    "\n",
    "## ✅ Conclusão\n",
    "\n",
    "Reproduzimos com sucesso todas as etapas do Capítulo 2.8:  \n",
    "- Carregamento e análise dos dados  \n",
    "- Tratamento de valores ausentes  \n",
    "- Discretização e transformação  \n",
    "- Redução de atributos\n",
    "\n",
    "O dataset final está pronto para ser utilizado em técnicas de **Mineração de Dados** como: classificação, clustering ou regras de associação.\n"
   ]
  }
 ],
 "metadata": {},
 "nbformat": 4,
 "nbformat_minor": 5
}
